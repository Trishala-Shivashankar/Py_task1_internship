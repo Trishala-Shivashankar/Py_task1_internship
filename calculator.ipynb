{
 "cells": [
  {
   "cell_type": "code",
   "execution_count": 1,
   "id": "5c901bc7-736f-4b01-aa53-0c39f19a6172",
   "metadata": {},
   "outputs": [],
   "source": [
    "# Addition\n",
    "def add(a, b):\n",
    "    return a + b\n",
    "\n",
    "# Subtraction\n",
    "def subtract(a, b):\n",
    "    return a - b\n",
    "\n",
    "# Multiplication\n",
    "def multiply(a, b):\n",
    "    return a * b\n",
    "\n",
    "# Division\n",
    "def divide(a, b):\n",
    "    if b == 0:\n",
    "        return \"Error: Division by zero!\"\n",
    "    return a / b"
   ]
  },
  {
   "cell_type": "code",
   "execution_count": 2,
   "id": "92a60f08-3341-4615-90b0-39ae39d78867",
   "metadata": {},
   "outputs": [],
   "source": [
    "def display_menu():\n",
    "    print(\"\\n--- Calculator Menu ---\")\n",
    "    print(\"1. Add\")\n",
    "    print(\"2. Subtract\")\n",
    "    print(\"3. Multiply\")\n",
    "    print(\"4. Divide\")\n",
    "    print(\"5. Exit\")"
   ]
  },
  {
   "cell_type": "code",
   "execution_count": 3,
   "id": "02ef025b-cf47-432f-bdd3-48a7db3c800d",
   "metadata": {},
   "outputs": [],
   "source": [
    "def run_calculator():\n",
    "    while True:\n",
    "        display_menu()\n",
    "        choice = input(\"Enter your choice (1-5): \")\n",
    "        \n",
    "        if choice == '5':\n",
    "            print(\"Exiting Calculator.\")\n",
    "            break\n",
    "\n",
    "        if choice not in ['1', '2', '3', '4']:\n",
    "            print(\"Invalid choice. Please try again.\")\n",
    "            continue\n",
    "        \n",
    "        try:\n",
    "            num1 = float(input(\"Enter first number: \"))\n",
    "            num2 = float(input(\"Enter second number: \"))\n",
    "        except ValueError:\n",
    "            print(\"Invalid input. Please enter numeric values.\")\n",
    "            continue\n",
    "        \n",
    "        if choice == '1':\n",
    "            print(\"Result:\", add(num1, num2))\n",
    "        elif choice == '2':\n",
    "            print(\"Result:\", subtract(num1, num2))\n",
    "        elif choice == '3':\n",
    "            print(\"Result:\", multiply(num1, num2))\n",
    "        elif choice == '4':\n",
    "            print(\"Result:\", divide(num1, num2))"
   ]
  },
  {
   "cell_type": "code",
   "execution_count": null,
   "id": "53a194db-0c04-4922-a0ca-d2bc35c06c0e",
   "metadata": {},
   "outputs": [
    {
     "name": "stdout",
     "output_type": "stream",
     "text": [
      "\n",
      "--- Calculator Menu ---\n",
      "1. Add\n",
      "2. Subtract\n",
      "3. Multiply\n",
      "4. Divide\n",
      "5. Exit\n"
     ]
    }
   ],
   "source": [
    "run_calculator()"
   ]
  },
  {
   "cell_type": "code",
   "execution_count": null,
   "id": "2e724c9a-80ec-4a13-bf38-9eb6acb3a7ae",
   "metadata": {},
   "outputs": [],
   "source": []
  }
 ],
 "metadata": {
  "kernelspec": {
   "display_name": "Python 3 (ipykernel)",
   "language": "python",
   "name": "python3"
  },
  "language_info": {
   "codemirror_mode": {
    "name": "ipython",
    "version": 3
   },
   "file_extension": ".py",
   "mimetype": "text/x-python",
   "name": "python",
   "nbconvert_exporter": "python",
   "pygments_lexer": "ipython3",
   "version": "3.11.7"
  }
 },
 "nbformat": 4,
 "nbformat_minor": 5
}
